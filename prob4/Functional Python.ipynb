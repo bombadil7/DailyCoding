{
 "cells": [
  {
   "cell_type": "markdown",
   "metadata": {},
   "source": [
    "# Problem 4 of Daily Programming Problems\n",
    "\n",
    "## This problem was asked by Stripe.\n",
    "\n",
    "Given an array of integers, find the first missing positive integer in linear time and constant space. In other words, find the lowest positive integer that does not exist in the array. The array can contain duplicates and negative numbers as well.\n",
    "\n",
    "For example, the input [3, 4, -1, 1] should give 2. The input [1, 2, 0] should give 3.\n",
    "\n",
    "You can modify the input array in-place."
   ]
  },
  {
   "cell_type": "markdown",
   "metadata": {},
   "source": [
    "One problem is that it's not ordered"
   ]
  },
  {
   "cell_type": "code",
   "execution_count": 20,
   "metadata": {},
   "outputs": [
    {
     "name": "stdout",
     "output_type": "stream",
     "text": [
      "CPU times: user 82 ms, sys: 0 ns, total: 82 ms\n",
      "Wall time: 82 ms\n"
     ]
    }
   ],
   "source": [
    "a = [3, -1, 4, -2, 1]\n",
    "from random import randint\n",
    "NUM = 1000_000\n",
    "MIN = -10\n",
    "MAX = 10\n",
    "\n",
    "# first clumsy attempt\n",
    "#b = list(map((lambda x: randint(MIN, MAX)), [x for x in range(NUM)]))\n",
    "\n",
    "# nicer option.  A shorter option is to use randsample, but it doesn't give duplicates\n",
    "c = [randint(MIN, MAX) for _ in range(NUM)]\n",
    "\n",
    "# We will test timing for filter function\n",
    "%time d = list(filter((lambda x: x >= 0), c))"
   ]
  },
  {
   "cell_type": "markdown",
   "metadata": {},
   "source": [
    "Filter runs in lenear time, so we're good here.\n",
    "## Now check quicksort"
   ]
  },
  {
   "cell_type": "code",
   "execution_count": 22,
   "metadata": {},
   "outputs": [
    {
     "name": "stdout",
     "output_type": "stream",
     "text": [
      "CPU times: user 512 ms, sys: 27 ms, total: 539 ms\n",
      "Wall time: 534 ms\n"
     ]
    }
   ],
   "source": [
    "def quicksort(lst):\n",
    "    \"Quicksort over a list-like sequence\"\n",
    "    if len(lst) == 0:\n",
    "        return lst\n",
    "    pivot = lst[0]\n",
    "    pivots = [x for x in lst if x == pivot]\n",
    "    small = quicksort([x for x in lst if x < pivot])\n",
    "    large = quicksort([x for x in lst if x > pivot])\n",
    "    return small + pivots + large\n",
    "\n",
    "%time e = quicksort(c)"
   ]
  },
  {
   "cell_type": "code",
   "execution_count": 28,
   "metadata": {},
   "outputs": [
    {
     "data": {
      "text/plain": [
       "[-10, -9, -7, -5, -3, -1, 1, 3, 5, 7, 8, 10]"
      ]
     },
     "execution_count": 28,
     "metadata": {},
     "output_type": "execute_result"
    }
   ],
   "source": [
    "e[::90_000]"
   ]
  },
  {
   "cell_type": "markdown",
   "metadata": {},
   "source": [
    "## Increase recursion limit\n",
    "Use sys.setrecursionlimit().  Default is 1000."
   ]
  },
  {
   "cell_type": "code",
   "execution_count": 45,
   "metadata": {},
   "outputs": [
    {
     "name": "stdout",
     "output_type": "stream",
     "text": [
      "3500\n",
      "3500\n"
     ]
    },
    {
     "data": {
      "text/plain": [
       "6"
      ]
     },
     "execution_count": 45,
     "metadata": {},
     "output_type": "execute_result"
    }
   ],
   "source": [
    "from sys import setrecursionlimit\n",
    "from sys import getrecursionlimit\n",
    "\n",
    "print(getrecursionlimit())\n",
    "setrecursionlimit(3500)\n",
    "print(getrecursionlimit())\n",
    "\n",
    "\n",
    "def factorialR(N):\n",
    "    \"Recursive factorial function\"\n",
    "    assert isinstance(N, int) and N >= 1\n",
    "    return 1 if N <= 1 else N * factorialR(N-1)\n",
    "\n",
    "num = 3\n",
    "factorialR(num)"
   ]
  },
  {
   "cell_type": "markdown",
   "metadata": {},
   "source": [
    "## Factorial \n",
    "This is a fast implementation"
   ]
  },
  {
   "cell_type": "code",
   "execution_count": 46,
   "metadata": {},
   "outputs": [
    {
     "data": {
      "text/plain": [
       "6"
      ]
     },
     "execution_count": 46,
     "metadata": {},
     "output_type": "execute_result"
    }
   ],
   "source": [
    "from functools import reduce\n",
    "from operator import mul\n",
    "\n",
    "def factorialHOF(n):\n",
    "    return reduce(mul, range(1, n+1), 1)\n",
    "\n",
    "factorialHOF(3)"
   ]
  },
  {
   "cell_type": "markdown",
   "metadata": {},
   "source": [
    "## Mapping Functions with Arguments\n",
    "```python\n",
    "# let f1, f2, f3 (etc) be functions that perform actions\n",
    "# an execution utility function\n",
    "do_it = lambda f, *args: f(*args)\n",
    "# map()-based action sequence\n",
    "map(do_it, [f1, f2, f3])\n",
    "```"
   ]
  },
  {
   "cell_type": "code",
   "execution_count": 49,
   "metadata": {},
   "outputs": [
    {
     "name": "stdout",
     "output_type": "stream",
     "text": [
      "Hello David Mertz\n",
      "Bye Jane Doe\n"
     ]
    }
   ],
   "source": [
    "do_it = lambda f, *args: f(*args)\n",
    "\n",
    "hello = lambda first, last: print(\"Hello\", first, last)\n",
    "bye = lambda first, last: print(\"Bye\", first, last)\n",
    "_ = list(map(do_it, [hello, bye],\n",
    "            ['David', 'Jane'], ['Mertz', 'Doe']))"
   ]
  },
  {
   "cell_type": "code",
   "execution_count": 52,
   "metadata": {},
   "outputs": [
    {
     "name": "stdout",
     "output_type": "stream",
     "text": [
      "Hello David Mertz\n",
      "Hello Jane Doe\n",
      "Bye David Mertz\n",
      "Bye Jane Doe\n"
     ]
    }
   ],
   "source": [
    "do_all_funcs = lambda fns, *args: [\n",
    "    list(map(fn, *args)) for fn in fns]\n",
    "\n",
    "_ = do_all_funcs([hello, bye], ['David', 'Jane'], ['Mertz', 'Doe'])"
   ]
  },
  {
   "cell_type": "markdown",
   "metadata": {},
   "source": [
    "## Closures - Operations with Data Attached"
   ]
  },
  {
   "cell_type": "code",
   "execution_count": 53,
   "metadata": {},
   "outputs": [
    {
     "data": {
      "text/plain": [
       "15"
      ]
     },
     "execution_count": 53,
     "metadata": {},
     "output_type": "execute_result"
    }
   ],
   "source": [
    "def make_adder(n):\n",
    "    def adder(m):\n",
    "        return m + n\n",
    "    return adder\n",
    "\n",
    "add5_f = make_adder(5)\n",
    "add5_f(10)"
   ]
  },
  {
   "cell_type": "code",
   "execution_count": 54,
   "metadata": {},
   "outputs": [
    {
     "name": "stdout",
     "output_type": "stream",
     "text": [
      "27\n",
      "15\n",
      "30\n"
     ]
    }
   ],
   "source": [
    "def make_multiplier_of(n):\n",
    "    def multiplier(x):\n",
    "        return x * n\n",
    "    return multiplier\n",
    "\n",
    "# Multiplier of 3\n",
    "times3 = make_multiplier_of(3)\n",
    "\n",
    "# Multiplier of 5\n",
    "times5 = make_multiplier_of(5)\n",
    "\n",
    "# Output: 27\n",
    "print(times3(9))\n",
    "\n",
    "# Output: 15\n",
    "print(times5(3))\n",
    "\n",
    "# Output: 30\n",
    "print(times5(times3(2)))"
   ]
  },
  {
   "cell_type": "code",
   "execution_count": null,
   "metadata": {},
   "outputs": [],
   "source": []
  }
 ],
 "metadata": {
  "kernelspec": {
   "display_name": "Python 3",
   "language": "python",
   "name": "python3"
  },
  "language_info": {
   "codemirror_mode": {
    "name": "ipython",
    "version": 3
   },
   "file_extension": ".py",
   "mimetype": "text/x-python",
   "name": "python",
   "nbconvert_exporter": "python",
   "pygments_lexer": "ipython3",
   "version": "3.7.0"
  }
 },
 "nbformat": 4,
 "nbformat_minor": 2
}
