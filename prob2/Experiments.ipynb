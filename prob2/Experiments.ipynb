{
 "cells": [
  {
   "cell_type": "code",
   "execution_count": null,
   "metadata": {},
   "outputs": [],
   "source": [
    "# A basic structure of a comprehension\n",
    "collection = [d if condition(d) else modify(d)\n",
    "             for d in data_set]"
   ]
  },
  {
   "cell_type": "code",
   "execution_count": 9,
   "metadata": {},
   "outputs": [
    {
     "data": {
      "text/plain": [
       "[9, 8, 7, 5, 4, 3, 2, 1, 0]"
      ]
     },
     "execution_count": 9,
     "metadata": {},
     "output_type": "execute_result"
    }
   ],
   "source": [
    "array = [2, 4, 6, 7, 3]\n",
    "a = range(10)[::-1]\n",
    "b = [x for i, x in enumerate(a) if i!=3]\n",
    "b"
   ]
  },
  {
   "cell_type": "code",
   "execution_count": 12,
   "metadata": {},
   "outputs": [
    {
     "data": {
      "text/plain": [
       "3"
      ]
     },
     "execution_count": 12,
     "metadata": {},
     "output_type": "execute_result"
    }
   ],
   "source": [
    "c = b.pop(5)\n",
    "c"
   ]
  },
  {
   "cell_type": "code",
   "execution_count": 13,
   "metadata": {},
   "outputs": [
    {
     "data": {
      "text/plain": [
       "[9, 8, 7, 5, 4, 2, 1, 0]"
      ]
     },
     "execution_count": 13,
     "metadata": {},
     "output_type": "execute_result"
    }
   ],
   "source": [
    "b"
   ]
  },
  {
   "cell_type": "code",
   "execution_count": 14,
   "metadata": {},
   "outputs": [
    {
     "data": {
      "text/plain": [
       "<generator object <genexpr> at 0x7f9cb57752a0>"
      ]
     },
     "execution_count": 14,
     "metadata": {},
     "output_type": "execute_result"
    }
   ],
   "source": [
    "# Generator\n",
    "g = (d/2 if d % 2 == 0 else d for d in range(10))\n",
    "g"
   ]
  },
  {
   "cell_type": "code",
   "execution_count": 18,
   "metadata": {},
   "outputs": [],
   "source": [
    "def get_sublist(lst, ind):\n",
    "    return [x for i, x in enumerate(lst) if i != ind]"
   ]
  },
  {
   "cell_type": "code",
   "execution_count": 20,
   "metadata": {},
   "outputs": [
    {
     "name": "stdout",
     "output_type": "stream",
     "text": [
      "[4, 6, 7, 3]\n",
      "[2, 6, 7, 3]\n",
      "[2, 4, 7, 3]\n",
      "[2, 4, 6, 3]\n",
      "[2, 4, 6, 7]\n"
     ]
    }
   ],
   "source": [
    "for i,l in enumerate(array):\n",
    "    print(get_sublist(array, i))"
   ]
  },
  {
   "cell_type": "code",
   "execution_count": 24,
   "metadata": {},
   "outputs": [
    {
     "name": "stdout",
     "output_type": "stream",
     "text": [
      "[4, 6, 7, 3]\n",
      "[2, 6, 7, 3]\n",
      "[2, 4, 7, 3]\n",
      "[2, 4, 6, 3]\n",
      "[2, 4, 6, 7]\n"
     ]
    }
   ],
   "source": [
    "def get_sublist2(lst, item):\n",
    "    return [x for x in lst if x != item]\n",
    "for d in array:\n",
    "    print(get_sublist2(array, d))"
   ]
  },
  {
   "cell_type": "code",
   "execution_count": 25,
   "metadata": {},
   "outputs": [
    {
     "name": "stdout",
     "output_type": "stream",
     "text": [
      "[4, 6, 7]\n",
      "[2, 6, 2, 7]\n",
      "[2, 4, 2, 7]\n",
      "[2, 4, 6, 2]\n",
      "[2, 4, 6, 2, 7]\n"
     ]
    }
   ],
   "source": [
    "new_ar = [2, 4, 6, 2, 7]\n",
    "for d in array:\n",
    "    print(get_sublist2(new_ar, d))"
   ]
  },
  {
   "cell_type": "code",
   "execution_count": 23,
   "metadata": {},
   "outputs": [
    {
     "data": {
      "text/plain": [
       "[4, 16, 36, 49, 9]"
      ]
     },
     "execution_count": 23,
     "metadata": {},
     "output_type": "execute_result"
    }
   ],
   "source": [
    "# map, filter, reduce\n",
    "square = lambda x: x*x\n",
    "l = list(map(square, array))\n",
    "l"
   ]
  },
  {
   "cell_type": "code",
   "execution_count": 30,
   "metadata": {},
   "outputs": [
    {
     "name": "stdout",
     "output_type": "stream",
     "text": [
      "36\n",
      "49\n"
     ]
    }
   ],
   "source": [
    "l = filter((lambda x: x > 30), l)\n",
    "for i in l:\n",
    "    print(i)"
   ]
  },
  {
   "cell_type": "code",
   "execution_count": 42,
   "metadata": {},
   "outputs": [
    {
     "name": "stdout",
     "output_type": "stream",
     "text": [
      "[2, 3, 5, 7]\n"
     ]
    }
   ],
   "source": [
    "a = [1,2,3,5,7,9]\n",
    "b = [2,3,5,6,7,8]\n",
    "print(list(filter(lambda x: x in a, b)))  # prints out [2, 3, 5, 7]"
   ]
  },
  {
   "cell_type": "code",
   "execution_count": 45,
   "metadata": {},
   "outputs": [
    {
     "data": {
      "text/plain": [
       "24"
      ]
     },
     "execution_count": 45,
     "metadata": {},
     "output_type": "execute_result"
    }
   ],
   "source": [
    "from functools import reduce\n",
    "reduce((lambda x,y: x*y), [1, 2, 3, 4]) # 1 * 2 * 3 * 4"
   ]
  },
  {
   "cell_type": "markdown",
   "metadata": {},
   "source": [
    "# The Problem Statement for Day 2 Problem\n",
    "## This problem was asked by Uber.\n",
    "\n",
    "Given an array of integers, return a new array such that each element at index i of the new array is the product of all the numbers in the original array except the one at i.\n",
    "\n",
    "For example, if our input was [1, 2, 3, 4, 5], the expected output would be [120, 60, 40, 30, 24]. If our input was [3, 2, 1], the expected output would be [2, 3, 6].\n",
    "\n",
    "Follow-up: what if you can't use division?"
   ]
  },
  {
   "cell_type": "markdown",
   "metadata": {},
   "source": [
    "Here's the basic solution with a for loop:"
   ]
  },
  {
   "cell_type": "code",
   "execution_count": 2,
   "metadata": {},
   "outputs": [
    {
     "name": "stdout",
     "output_type": "stream",
     "text": [
      "[120, 60, 48, 120, 80]\n"
     ]
    }
   ],
   "source": [
    "from functools import reduce\n",
    "\n",
    "array = [2, 4, 5, 2, 3]\n",
    "\n",
    "def remove_indexed_item(lst, ind):\n",
    "    return [x for i, x in enumerate(lst) if i != ind]\n",
    "\n",
    "all_subarrays = list(remove_indexed_item(array, i) for i in range(len(array)))\n",
    "\n",
    "new_array = []\n",
    "for sub in all_subarrays:\n",
    "    new_array.append(reduce((lambda x,y: x*y), sub))\n",
    "\n",
    "print(new_array)"
   ]
  },
  {
   "cell_type": "markdown",
   "metadata": {},
   "source": [
    "Here the for loop is replaced with functions with meaningful names.  The work is done in two steps: 1) create new lists with the indexed item removed and 2) multiply all elements of those sub-lists."
   ]
  },
  {
   "cell_type": "code",
   "execution_count": null,
   "metadata": {},
   "outputs": [],
   "source": [
    "from functools import reduce\n",
    "\n",
    "def remove_current_element(lst, index):\n",
    "    \"\"\" Given a list and index of one element we remove that element from the list \"\"\"\n",
    "    return [x for i, x in enumerate(lst) if i != index]\n",
    "\n",
    "def multiply_elements(lst):\n",
    "    \"\"\" Given a list we multiply all the element of it and return as a single number \"\"\"\n",
    "    return reduce((lambda x,y: x*y), lst)\n",
    "\n",
    "def main():\n",
    "    array = [2, 4, 5, 2, 3]\n",
    "\n",
    "    all_subarrays = list(remove_current_element(array, i) for i in range(len(array)))\n",
    "    new_array = list(map(multiply_elements,[x for x in all_subarrays]))\n",
    "\n",
    "    print(new_array)\n",
    "\n",
    "\n",
    "if __name__ == \"__main__\":\n",
    "    main()"
   ]
  },
  {
   "cell_type": "markdown",
   "metadata": {},
   "source": [
    "These functions can be replaced with lambda functions, which makes them more compact:"
   ]
  },
  {
   "cell_type": "code",
   "execution_count": 6,
   "metadata": {},
   "outputs": [
    {
     "name": "stdout",
     "output_type": "stream",
     "text": [
      "[120, 60, 48, 120, 80]\n"
     ]
    }
   ],
   "source": [
    "from functools import reduce\n",
    "\n",
    "def convert(array):\n",
    "    remove_current_element = lambda lst, index: [x for i, x in enumerate(lst) if i != index]\n",
    "    multiply_elements = lambda lst: reduce((lambda x,y: x*y), lst)\n",
    "\n",
    "    all_subarrays = list(remove_current_element(array, i) for i in range(len(array)))\n",
    "    return list(map(multiply_elements,[x for x in all_subarrays]))\n",
    "\n",
    "\n",
    "array = [2, 4, 5, 2, 3]\n",
    "print(convert(array))"
   ]
  },
  {
   "cell_type": "markdown",
   "metadata": {},
   "source": [
    "Move lambda functionality directly into calling functions:"
   ]
  },
  {
   "cell_type": "code",
   "execution_count": 4,
   "metadata": {},
   "outputs": [
    {
     "name": "stdout",
     "output_type": "stream",
     "text": [
      "[120, 60, 48, 120, 80]\n"
     ]
    }
   ],
   "source": [
    "from functools import reduce\n",
    "\n",
    "def convert(array):\n",
    "    # Create a list of new lists with required elements removed\n",
    "    all_subarrays = list(map((lambda index: [x for i, x in enumerate(array) if i != index]), \n",
    "                             (index for index in range(len(array)))))\n",
    "\n",
    "    # Reduce each sub-list to a single number, which is a product of all elements\n",
    "    return list(map((lambda lst: reduce((lambda x,y: x*y), lst)), (lst for lst in all_subarrays)))\n",
    "\n",
    "array = [2, 4, 5, 2, 3]\n",
    "print(convert(array))"
   ]
  },
  {
   "cell_type": "markdown",
   "metadata": {},
   "source": [
    "Now we combine these two lines into a single statement, which is very hard to read and harder yet to interpret:"
   ]
  },
  {
   "cell_type": "code",
   "execution_count": 5,
   "metadata": {},
   "outputs": [
    {
     "name": "stdout",
     "output_type": "stream",
     "text": [
      "[120, 60, 48, 120, 80]\n"
     ]
    }
   ],
   "source": [
    "from functools import reduce\n",
    "# Example: [1, 2, 3, 4] -> [24, 12, 8, 6]\n",
    "\n",
    "def convert(array):\n",
    "    return list(map((lambda lst: reduce((lambda x,y: x*y), lst)), \n",
    "            list(map((lambda index: [x for i, x in enumerate(array) if i != index]), \n",
    "                     (index for index in range(len(array)))))))\n",
    "\n",
    "array = [2, 4, 5, 2, 3]\n",
    "print(convert(array))"
   ]
  }
 ],
 "metadata": {
  "kernelspec": {
   "display_name": "Python 3",
   "language": "python",
   "name": "python3"
  },
  "language_info": {
   "codemirror_mode": {
    "name": "ipython",
    "version": 3
   },
   "file_extension": ".py",
   "mimetype": "text/x-python",
   "name": "python",
   "nbconvert_exporter": "python",
   "pygments_lexer": "ipython3",
   "version": "3.7.0"
  }
 },
 "nbformat": 4,
 "nbformat_minor": 2
}
